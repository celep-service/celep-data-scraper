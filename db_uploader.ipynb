{
 "cells": [
  {
   "cell_type": "code",
   "execution_count": 17,
   "metadata": {},
   "outputs": [
    {
     "data": {
      "text/plain": [
       "True"
      ]
     },
     "execution_count": 17,
     "metadata": {},
     "output_type": "execute_result"
    }
   ],
   "source": [
    "import sys\n",
    "import pymysql\n",
    "from dotenv import load_dotenv\n",
    "import os\n",
    "import csv \n",
    "\n",
    "load_dotenv()\n"
   ]
  },
  {
   "cell_type": "code",
   "execution_count": 18,
   "metadata": {},
   "outputs": [],
   "source": [
    "def mysqlDbConnection(u, pw, h, p, d):\n",
    "    try:\n",
    "        conn = pymysql.connect(user = u, password = pw, host = h, port = p, database = d)\n",
    "        print(\"DB Connection Success: {0}\".format(h))\n",
    "    except pymysql.Error as e:\n",
    "        print(\"Error connecting to MySQL Platform : {}\".format(e))\n",
    "        sys.exit(1)\n",
    " \n",
    "    return conn\n",
    " \n",
    " \n",
    "def mysqlDbClose(_dbConn):\n",
    "    try:\n",
    "        _dbConn.close()\n",
    "        print(\"DB Close Success\")\n",
    "    except pymysql.Error as e:\n",
    "        print(\"Error closing from MySQL Platform\")\n",
    "        sys.exit(1)\n"
   ]
  },
  {
   "cell_type": "code",
   "execution_count": 19,
   "metadata": {},
   "outputs": [],
   "source": [
    "db_username = os.getenv(\"SECERT_DB_USERNAME\")\n",
    "db_password = os.getenv(\"SECERT_DB_PASSWORD\")\n",
    "db_port = os.getenv(\"SECERT_DB_PORT\")\n",
    "db_database = os.getenv(\"SECERT_DB_DATABASE\")\n",
    "db_host = os.getenv(\"SECERT_DB_HOST\")"
   ]
  },
  {
   "cell_type": "code",
   "execution_count": 20,
   "metadata": {},
   "outputs": [
    {
     "name": "stdout",
     "output_type": "stream",
     "text": [
      "DB Connection Success: celep.cf54bs5i8vlt.ap-northeast-2.rds.amazonaws.com\n",
      "DB Close Success\n"
     ]
    }
   ],
   "source": [
    "\n",
    "dbConn = mysqlDbConnection(db_username, db_password, db_host, int(db_port), db_database)\n",
    "cursor = dbConn.cursor()\n",
    " \n",
    " \n",
    "file = open('./musinsa_top.csv','r', encoding='utf-8-sig')\n",
    "fReader = csv.reader(file)\n",
    " \n",
    "for line in fReader:\n",
    "    # query = \"INSERT INTO clothes VALUES ('{0}', '{1}', '{2}', {3})\".format(line[0], line[1], line[2], line[3])\n",
    "    query = \"INSERT INTO clothes(clothes_category, brand, name, image_url, sell_url) VALUES ('TOP' ,'{0}', '{1}', '{2}', '{3}')\".format(line[0], line[1], line[2], line[3])\n",
    "    cursor.execute(query)\n",
    "\n",
    "file.close()\n",
    "\n",
    "dbConn.commit() \n",
    "cursor.close()\n",
    "mysqlDbClose(dbConn)"
   ]
  }
 ],
 "metadata": {
  "kernelspec": {
   "display_name": "Python 3",
   "language": "python",
   "name": "python3"
  },
  "language_info": {
   "codemirror_mode": {
    "name": "ipython",
    "version": 3
   },
   "file_extension": ".py",
   "mimetype": "text/x-python",
   "name": "python",
   "nbconvert_exporter": "python",
   "pygments_lexer": "ipython3",
   "version": "3.12.1"
  }
 },
 "nbformat": 4,
 "nbformat_minor": 2
}
