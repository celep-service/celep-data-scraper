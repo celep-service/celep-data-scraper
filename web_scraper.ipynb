{
 "cells": [
  {
   "cell_type": "code",
   "execution_count": 1,
   "id": "initial_id",
   "metadata": {
    "ExecuteTime": {
     "end_time": "2023-12-17T06:00:42.456983300Z",
     "start_time": "2023-12-17T06:00:42.453202900Z"
    },
    "collapsed": true
   },
   "outputs": [],
   "source": [
    "from selenium import webdriver\n",
    "from selenium.webdriver.common.by import By\n",
    "from selenium.webdriver.common.keys import Keys\n",
    "import time\n",
    "import random\n",
    "from selenium.webdriver.support.ui import WebDriverWait\n",
    "from selenium.webdriver.support import expected_conditions as EC\n",
    "import csv\n"
   ]
  },
  {
   "cell_type": "code",
   "execution_count": 2,
   "id": "a33eee2edc024bea",
   "metadata": {
    "ExecuteTime": {
     "end_time": "2023-12-17T05:47:14.208514100Z",
     "start_time": "2023-12-17T05:47:10.294409700Z"
    },
    "collapsed": false
   },
   "outputs": [],
   "source": [
    "# 무신사 의류 스크래핑\n",
    "\n",
    "# 무신사 의류 페이지 접속\n",
    "browser = webdriver.Edge() # 괄호안에 드라이버 경로를 넣어준다.(같은 폴더에 있으면 안넣어도 됨)\n",
    "url = \"https://www.musinsa.com/ranking/best?new_product_yn=Y\"\n",
    "browser.get(url)"
   ]
  },
  {
   "cell_type": "code",
   "execution_count": 3,
   "id": "8854ccedc22b719",
   "metadata": {
    "ExecuteTime": {
     "end_time": "2023-12-17T05:48:26.984586400Z",
     "start_time": "2023-12-17T05:48:26.950161100Z"
    },
    "collapsed": false
   },
   "outputs": [
    {
     "name": "stdout",
     "output_type": "stream",
     "text": [
      "90\n"
     ]
    }
   ],
   "source": [
    "# 의류 정보 가져오기\n",
    "goods_rank_list = browser.find_elements(By.XPATH, '//ul[@id=\"goodsRankList\"]/li')\n",
    "print(len(goods_rank_list))"
   ]
  },
  {
   "cell_type": "code",
   "execution_count": 9,
   "id": "464d456db0d70a62",
   "metadata": {
    "ExecuteTime": {
     "end_time": "2023-12-17T06:04:21.473772500Z",
     "start_time": "2023-12-17T06:04:21.469235800Z"
    },
    "collapsed": false
   },
   "outputs": [],
   "source": [
    "filename = 'musinsa.csv'\n",
    "f = open(filename, 'w', encoding='utf-8-sig', newline='')\n",
    "# newline 옵션을 주지 않으면 한줄씩 띄어지는 현상이 발생한다.\n",
    "writer = csv.writer(f)"
   ]
  },
  {
   "cell_type": "code",
   "execution_count": 10,
   "id": "1fc281ac088fbc",
   "metadata": {
    "ExecuteTime": {
     "end_time": "2023-12-17T06:06:13.851459100Z",
     "start_time": "2023-12-17T06:06:09.823383Z"
    },
    "collapsed": false
   },
   "outputs": [
    {
     "name": "stdout",
     "output_type": "stream",
     "text": [
      "키뮤어\n",
      "서플러스 울(WOOL) 2-WAY 헤링턴 자켓_부클 블랙\n",
      "82,240원\n",
      "https://image.msscdn.net/images/goods_img/20230822/3487878/3487878_16947442256700_125.jpg\n",
      "https://www.musinsa.com/app/goods/3487878?loc=goods_rank\n",
      "--------------------------------------------------\n",
      "무신사 스탠다드\n",
      "데일리 푸퍼 숏 패딩 재킷 [블랙]\n",
      "59,390원\n",
      "https://image.msscdn.net/images/goods_img/20230622/3378514/3378514_16965750464930_125.jpg\n",
      "https://www.musinsa.com/app/goods/3378514?loc=goods_rank\n",
      "--------------------------------------------------\n",
      "내셔널지오그래픽\n",
      "N234UDW860 카이만 프로 롱기장 구스 다운 점퍼 SMALL LOGO BLACK\n",
      "349,000원\n",
      "https://image.msscdn.net/images/goods_img/20230919/3574916/3574916_16998525149640_125.jpg\n",
      "https://www.musinsa.com/app/goods/3574916?loc=goods_rank\n",
      "--------------------------------------------------\n",
      "쿠어\n",
      "벨란디 캐시미어 블렌드 발마칸 코트 (신더그레이)\n",
      "319,500원\n",
      "https://image.msscdn.net/images/goods_img/20230821/3481221/3481221_16944160976459_125.jpg\n",
      "https://www.musinsa.com/app/goods/3481221?loc=goods_rank\n",
      "--------------------------------------------------\n",
      "라퍼지스토어\n",
      "[무료반품]울리치 발마칸 오버 코트_Black\n",
      "128,000원\n",
      "https://image.msscdn.net/0.gif\n",
      "https://www.musinsa.com/app/goods/3571835?loc=goods_rank\n",
      "--------------------------------------------------\n",
      "키뮤어\n",
      "서플러스 울(WOOL) 2-WAY 헤링턴 자켓_부클 카멜\n",
      "82,240원\n",
      "https://image.msscdn.net/0.gif\n",
      "https://www.musinsa.com/app/goods/3487877?loc=goods_rank\n",
      "--------------------------------------------------\n",
      "커버낫\n",
      "RDS 씨빅 숏 푸퍼 블랙\n",
      "159,200원\n",
      "https://image.msscdn.net/0.gif\n",
      "https://www.musinsa.com/app/goods/3555045?loc=goods_rank\n",
      "--------------------------------------------------\n",
      "쿠어\n",
      "벨란디 캐시미어 블렌드 발마칸 코트 (블랙)\n",
      "319,500원\n",
      "https://image.msscdn.net/0.gif\n",
      "https://www.musinsa.com/app/goods/3481219?loc=goods_rank\n",
      "--------------------------------------------------\n",
      "커버낫\n",
      "RDS 씨빅 롱 다운 파카 블랙\n",
      "239,200원\n",
      "https://image.msscdn.net/0.gif\n",
      "https://www.musinsa.com/app/goods/3555034?loc=goods_rank\n",
      "--------------------------------------------------\n",
      "라퍼지스토어\n",
      "[무료반품]덕다운 미니멀 푸퍼 숏패딩_Black\n",
      "108,000원\n",
      "https://image.msscdn.net/0.gif\n",
      "https://www.musinsa.com/app/goods/3673770?loc=goods_rank\n",
      "--------------------------------------------------\n"
     ]
    }
   ],
   "source": [
    "# 의류정보 하나씩 찢기\n",
    "# csv 파일로 저장\n",
    "for idx, good in enumerate(goods_rank_list):\n",
    "    if(idx == 10):\n",
    "        break\n",
    "    \n",
    "    # 의류 브랜드\n",
    "    good_brand = good.find_element(By.XPATH, './/p[@class=\"item_title\"]/a')\n",
    "    print(good_brand.text)\n",
    "    # 의류 이름\n",
    "    good_name = good.find_element(By.XPATH, './/p[@class=\"list_info\"]/a')\n",
    "    print(good_name.text)\n",
    "    # 의류 가격\n",
    "    good_price = good.find_element(By.XPATH, './/p[@class=\"price\"]')\n",
    "    # 내부에 있는 del 태그를 제거\n",
    "    if good_price.find_elements(By.XPATH, './/del'):\n",
    "        del_tag = good_price.find_element(By.XPATH, './/del')\n",
    "        browser.execute_script('arguments[0].remove()', del_tag)\n",
    "    print(good_price.text)\n",
    "    # 의류 이미지\n",
    "    good_img = good.find_element(By.XPATH, './/img')\n",
    "    print(good_img.get_attribute('src'))\n",
    "    # 의류 링크\n",
    "    good_link = good.find_element(By.XPATH, './/p[@class=\"list_info\"]/a')\n",
    "    print(good_link.get_attribute('href'))\n",
    "    print('-' * 50)\n",
    "    \n",
    "    # csv 파일로 저장\n",
    "    writer.writerow([good_brand.text, good_name.text, good_price.text, good_img.get_attribute('src'), good_link.get_attribute('href')])\n"
   ]
  },
  {
   "cell_type": "code",
   "execution_count": null,
   "id": "ac411a79f6c31238",
   "metadata": {
    "collapsed": false
   },
   "outputs": [],
   "source": []
  }
 ],
 "metadata": {
  "kernelspec": {
   "display_name": "Python 3",
   "language": "python",
   "name": "python3"
  },
  "language_info": {
   "codemirror_mode": {
    "name": "ipython",
    "version": 3
   },
   "file_extension": ".py",
   "mimetype": "text/x-python",
   "name": "python",
   "nbconvert_exporter": "python",
   "pygments_lexer": "ipython3",
   "version": "3.12.1"
  }
 },
 "nbformat": 4,
 "nbformat_minor": 5
}
