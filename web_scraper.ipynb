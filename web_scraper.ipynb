{
 "cells": [
  {
   "cell_type": "code",
   "execution_count": 134,
   "id": "initial_id",
   "metadata": {
    "ExecuteTime": {
     "end_time": "2023-12-17T06:00:42.456983300Z",
     "start_time": "2023-12-17T06:00:42.453202900Z"
    },
    "collapsed": true
   },
   "outputs": [],
   "source": [
    "from selenium import webdriver\n",
    "from selenium.webdriver.common.by import By\n",
    "from selenium.webdriver.common.keys import Keys\n",
    "import time\n",
    "import random\n",
    "from selenium.webdriver.support.ui import WebDriverWait\n",
    "from selenium.webdriver.support import expected_conditions as EC\n",
    "import csv\n",
    "import sys\n",
    "import pymysql\n"
   ]
  },
  {
   "cell_type": "code",
   "execution_count": 135,
   "id": "ba260e43",
   "metadata": {},
   "outputs": [],
   "source": [
    "# 무신사 의류 스크래핑\n",
    "\n",
    "# 브라우저 실행\n",
    "browser = webdriver.Edge() # 괄호안에 드라이버 경로를 넣어준다.(같은 폴더에 있으면 안넣어도 됨)\n",
    "browser.maximize_window() # 창 최대화\n"
   ]
  },
  {
   "cell_type": "code",
   "execution_count": 136,
   "id": "a33eee2edc024bea",
   "metadata": {
    "ExecuteTime": {
     "end_time": "2023-12-17T05:47:14.208514100Z",
     "start_time": "2023-12-17T05:47:10.294409700Z"
    },
    "collapsed": false
   },
   "outputs": [],
   "source": [
    "\n",
    "# 무신사 의류 페이지 접속\n",
    "url = \"https://www.musinsa.com/ranking/best?period=week&age=ALL&mainCategory=001&subCategory=&leafCategory=&price=&golf=false&kids=false&newProduct=true&exclusive=false&discount=false&soldOut=false&page=1&viewType=small&priceMin=&priceMax=#pol3487878\"\n",
    "browser.get(url)"
   ]
  },
  {
   "cell_type": "code",
   "execution_count": 137,
   "id": "8854ccedc22b719",
   "metadata": {
    "ExecuteTime": {
     "end_time": "2023-12-17T05:48:26.984586400Z",
     "start_time": "2023-12-17T05:48:26.950161100Z"
    },
    "collapsed": false
   },
   "outputs": [
    {
     "name": "stdout",
     "output_type": "stream",
     "text": [
      "90\n"
     ]
    }
   ],
   "source": [
    "# 이미지 로딩을 위해 스크롤을 내린다\n",
    "# 스크롤 내리기\n",
    "for i in range(1, 11):\n",
    "    browser.execute_script(\"window.scrollTo(0, document.body.scrollHeight/10*\"+str(i)+\")\")\n",
    "    time.sleep(0.5)\n",
    "# 3초간 대기\n",
    "time.sleep(1)\n",
    "\n",
    "# 의류 정보 가져오기\n",
    "goods_rank_list = browser.find_elements(By.XPATH, '//ul[@id=\"goodsRankList\"]/li')\n",
    "print(len(goods_rank_list))"
   ]
  },
  {
   "cell_type": "code",
   "execution_count": 138,
   "id": "464d456db0d70a62",
   "metadata": {
    "ExecuteTime": {
     "end_time": "2023-12-17T06:04:21.473772500Z",
     "start_time": "2023-12-17T06:04:21.469235800Z"
    },
    "collapsed": false
   },
   "outputs": [],
   "source": [
    "filename = 'musinsa_top.csv'\n",
    "f = open(filename, 'w', encoding='utf-8-sig', newline='')\n",
    "# newline 옵션을 주지 않으면 한줄씩 띄어지는 현상이 발생한다.\n",
    "writer = csv.writer(f)"
   ]
  },
  {
   "cell_type": "code",
   "execution_count": 139,
   "id": "1fc281ac088fbc",
   "metadata": {
    "ExecuteTime": {
     "end_time": "2023-12-17T06:06:13.851459100Z",
     "start_time": "2023-12-17T06:06:09.823383Z"
    },
    "collapsed": false
   },
   "outputs": [],
   "source": [
    "# 의류정보 하나씩 찢기\n",
    "# csv 파일로 저장\n",
    "time.sleep(1)\n",
    "\n",
    "for idx, good in enumerate(goods_rank_list):\n",
    "    \n",
    "    # 의류 브랜드\n",
    "    good_brand = good.find_element(By.XPATH, './/p[@class=\"item_title\"]/a')\n",
    "    #print(good_brand.text)\n",
    "    # 의류 이름\n",
    "    good_name = good.find_element(By.XPATH, './/p[@class=\"list_info\"]/a')\n",
    "    #print(good_name.text)\n",
    "    # 의류 가격\n",
    "    good_price = good.find_element(By.XPATH, './/p[@class=\"price\"]')\n",
    "    # 내부에 있는 del 태그를 제거\n",
    "    if good_price.find_elements(By.XPATH, './/del'):\n",
    "        del_tag = good_price.find_element(By.XPATH, './/del')\n",
    "        browser.execute_script('arguments[0].remove()', del_tag)\n",
    "    #print(good_price.text)\n",
    "    # 의류 이미지\n",
    "    good_img = good.find_element(By.XPATH, './/img')\n",
    "    #print(good_img.get_attribute('src'))\n",
    "    # 의류 링크\n",
    "    good_link = good.find_element(By.XPATH, './/p[@class=\"list_info\"]/a')\n",
    "    #print(good_link.get_attribute('href'))\n",
    "    #print('-' * 50)\n",
    "    \n",
    "    # csv 파일로 저장\n",
    "    writer.writerow([good_brand.text, good_name.text.strip(), good_img.get_attribute('src'), good_link.get_attribute('href'), good_price.text])\n"
   ]
  },
  {
   "cell_type": "code",
   "execution_count": 140,
   "id": "ac411a79f6c31238",
   "metadata": {
    "collapsed": false
   },
   "outputs": [],
   "source": [
    "time.sleep(1)\n",
    "browser.quit()"
   ]
  }
 ],
 "metadata": {
  "kernelspec": {
   "display_name": "Python 3",
   "language": "python",
   "name": "python3"
  },
  "language_info": {
   "codemirror_mode": {
    "name": "ipython",
    "version": 3
   },
   "file_extension": ".py",
   "mimetype": "text/x-python",
   "name": "python",
   "nbconvert_exporter": "python",
   "pygments_lexer": "ipython3",
   "version": "3.12.1"
  }
 },
 "nbformat": 4,
 "nbformat_minor": 5
}
